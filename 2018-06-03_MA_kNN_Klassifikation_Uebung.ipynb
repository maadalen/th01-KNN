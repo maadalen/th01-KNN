{
 "cells": [
  {
   "cell_type": "markdown",
   "metadata": {},
   "source": [
    "# Übungen zur Klassifikation mit kNN"
   ]
  },
  {
   "cell_type": "markdown",
   "metadata": {},
   "source": [
    "### Aufgabe 1: Theorie"
   ]
  },
  {
   "cell_type": "markdown",
   "metadata": {},
   "source": [
    "**a) Was ist die Gefahr, wenn k zu groß bzw. zu klein gesetzt wird?**"
   ]
  },
  {
   "cell_type": "markdown",
   "metadata": {},
   "source": [
    "**b) Warum müssen Daten transfomiert bzw. normalisiert werden?**\n"
   ]
  },
  {
   "cell_type": "markdown",
   "metadata": {},
   "source": [
    "### Aufgabe 2: \n",
    "\n",
    "a) Verwenden Sie den Datensatz `Smarket` aus dem package `ISLR`, um ein Modell zu generieren,  mit dem vorhergesagt werden kann, ob der Aktienmarkt steigt (up) oder fällt (down).  Wie viel % werden korrekt vorher gesagt?\n",
    "\n",
    "**Hinweise**:  \n",
    "- beachten Sie, dass Sie die Zielvariable als Faktor konvertieren\n",
    "- Sie sollten die Reihenfolge vorher randomisieren um sicherzugehen, dass der Trainingsdatensatz und Testdatensatz für den Gesamtdatensatz repräsentativ sind.  Dies können Sie wie folgt tun:  \n",
    "`set.seed(1) # stellt die gleichen Ergebnisse sicher\n",
    "rnum<- sample(rep(1:1250)) #generiert zufällige Zahlen zwischen 1 und 150\n",
    "stockm<- stockm[rnum,] #Reihenfolge randomisieren`\n",
    "\n",
    "- Teilen Sie dann die ersten 1000 Datensätze den Trainingsdaten und die restlichen den Testdaten zu.  \n",
    "\n",
    "b) Können Sie Ihr Modell evtl. verbessern mit einer anderen Transformation? Wird es besser, wenn sie k = 1 **`Anmerkung(1) -> \"setzen\":`** setzten?"
   ]
  },
  {
   "cell_type": "markdown",
   "metadata": {},
   "source": [
    "**Anmerkung(2) -> Schöne Aufgabe :D**"
   ]
  },
  {
   "cell_type": "code",
   "execution_count": null,
   "metadata": {},
   "outputs": [],
   "source": []
  }
 ],
 "metadata": {
  "kernelspec": {
   "display_name": "R",
   "language": "R",
   "name": "ir"
  },
  "language_info": {
   "codemirror_mode": "r",
   "file_extension": ".r",
   "mimetype": "text/x-r-source",
   "name": "R",
   "pygments_lexer": "r",
   "version": "3.4.3"
  }
 },
 "nbformat": 4,
 "nbformat_minor": 2
}
