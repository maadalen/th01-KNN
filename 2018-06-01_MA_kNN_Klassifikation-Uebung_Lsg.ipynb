{
 "cells": [
  {
   "cell_type": "markdown",
   "metadata": {},
   "source": [
    "# Übungen zur Klassifikation mit kNN"
   ]
  },
  {
   "cell_type": "markdown",
   "metadata": {},
   "source": [
    "### Aufgabe 1: Theorie"
   ]
  },
  {
   "cell_type": "markdown",
   "metadata": {},
   "source": [
    "**a) Was ist die Gefahr, wenn k zu groß bzw. zu klein gesetzt wird?**\n",
    "\n",
    "Ein großes k reduziert den Einfluss von verrauschten Daten, kann jedoch das Modell so verzerren, dass kleine, aber wichtige Muster übersehen werden. Wenn beispielsweise k so groß gesetzt wird wie die Anzahl der Beobachtungen, dann wäre jede Instanz bei der Abstimmung repräsentiert und das Modell würde immer die Klasse, in der am meisten Instanzen repräsentiert sind, vorhersagen.  \n",
    "Das entgegengesetzte Extrem, wenn also k=1 gesetzt wird, hat zur Folge, dass verrauschte Daten oder Ausreißer zu starken Einfluss auf die Vorhersage haben."
   ]
  },
  {
   "cell_type": "markdown",
   "metadata": {},
   "source": [
    "**b) Warum müssen Daten transfomiert bzw. normalisiert werden?**\n",
    "\n",
    " Die Daten müssen ein ein Einheitsintervall transformiert werden, da sonst Merkmale die einen breiten Range haben, viel mehr Einfluss haben, als Merkmale, die ihre Ausprägungen in einem kleinen Intervall haben. Die Gefahr besteht, dass wenn die Merkmale so unterschiedlich sind, dass die Klassifikation nur anhand des Merkmals mit breitem Range stattfindet."
   ]
  },
  {
   "cell_type": "markdown",
   "metadata": {},
   "source": [
    "### Aufgabe 2: \n",
    "\n",
    "a) Verwenden Sie den Datensatz `Smarket` aus dem package `ISLR`, um ein Modell zu generieren,  mit dem vorhergesagt werden kann, ob der Aktienmarkt steigt (up) oder fällt (down).  Wie viel % werden korrekt vorher gesagt?\n",
    "\n",
    "**Hinweise**:  \n",
    "- beachten Sie, dass Sie die Zielvariable als Faktor konvertieren\n",
    "- Sie sollten die Reihenfolge vorher randomisieren um sicherzugehen, dass der Trainingsdatensatz und Testdatensatz für den Gesamtdatensatz repräsentativ sind.  Dies können Sie wie folgt tun:  \n",
    "`set.seed(1) # stellt die gleichen Ergebnisse sicher\n",
    "rnum<- sample(rep(1:1250)) #generiert zufällige Zahlen zwischen 1 und 150\n",
    "stockm<- stockm[rnum,] #Reihenfolge randomisieren`\n",
    "\n",
    "- Teilen Sie dann die ersten 1000 Datensätze den Trainingsdaten und die restlichen den Testdaten zu.  \n",
    "\n",
    "b) Können Sie Ihr Modell evtl. verbessern mit einer anderen Transformation? Wird es besser, wenn sie k = 1 setzten?"
   ]
  },
  {
   "cell_type": "markdown",
   "metadata": {},
   "source": [
    "## Lösung"
   ]
  },
  {
   "cell_type": "markdown",
   "metadata": {},
   "source": [
    "Zunächst muss das Package `ISLR` und, falls noch nicht geschehen `class`, installiert werden und die libraries `class` und `ISLR` eingebunden werden. "
   ]
  },
  {
   "cell_type": "code",
   "execution_count": 12,
   "metadata": {},
   "outputs": [],
   "source": [
    "library(\"class\")"
   ]
  },
  {
   "cell_type": "code",
   "execution_count": 20,
   "metadata": {},
   "outputs": [
    {
     "name": "stdout",
     "output_type": "stream",
     "text": [
      "package 'ISLR' successfully unpacked and MD5 sums checked\n",
      "\n",
      "The downloaded binary packages are in\n",
      "\tC:\\Users\\HS\\AppData\\Local\\Temp\\Rtmp02bbU8\\downloaded_packages\n"
     ]
    }
   ],
   "source": [
    "install.packages('ISLR');\n",
    "library(ISLR)"
   ]
  },
  {
   "cell_type": "markdown",
   "metadata": {},
   "source": [
    "Zuerst kann man sich die ersten Zeilen ansehen und sich mit `str()`einen Überblick über die Daten verschaffen"
   ]
  },
  {
   "cell_type": "code",
   "execution_count": 2,
   "metadata": {},
   "outputs": [
    {
     "data": {
      "text/html": [
       "<table>\n",
       "<thead><tr><th scope=col>Year</th><th scope=col>Lag1</th><th scope=col>Lag2</th><th scope=col>Lag3</th><th scope=col>Lag4</th><th scope=col>Lag5</th><th scope=col>Volume</th><th scope=col>Today</th><th scope=col>Direction</th></tr></thead>\n",
       "<tbody>\n",
       "\t<tr><td>2001  </td><td> 0.381</td><td>-0.192</td><td>-2.624</td><td>-1.055</td><td> 5.010</td><td>1.1913</td><td> 0.959</td><td>Up    </td></tr>\n",
       "\t<tr><td>2001  </td><td> 0.959</td><td> 0.381</td><td>-0.192</td><td>-2.624</td><td>-1.055</td><td>1.2965</td><td> 1.032</td><td>Up    </td></tr>\n",
       "\t<tr><td>2001  </td><td> 1.032</td><td> 0.959</td><td> 0.381</td><td>-0.192</td><td>-2.624</td><td>1.4112</td><td>-0.623</td><td>Down  </td></tr>\n",
       "\t<tr><td>2001  </td><td>-0.623</td><td> 1.032</td><td> 0.959</td><td> 0.381</td><td>-0.192</td><td>1.2760</td><td> 0.614</td><td>Up    </td></tr>\n",
       "\t<tr><td>2001  </td><td> 0.614</td><td>-0.623</td><td> 1.032</td><td> 0.959</td><td> 0.381</td><td>1.2057</td><td> 0.213</td><td>Up    </td></tr>\n",
       "\t<tr><td>2001  </td><td> 0.213</td><td> 0.614</td><td>-0.623</td><td> 1.032</td><td> 0.959</td><td>1.3491</td><td> 1.392</td><td>Up    </td></tr>\n",
       "</tbody>\n",
       "</table>\n"
      ],
      "text/latex": [
       "\\begin{tabular}{r|lllllllll}\n",
       " Year & Lag1 & Lag2 & Lag3 & Lag4 & Lag5 & Volume & Today & Direction\\\\\n",
       "\\hline\n",
       "\t 2001   &  0.381 & -0.192 & -2.624 & -1.055 &  5.010 & 1.1913 &  0.959 & Up    \\\\\n",
       "\t 2001   &  0.959 &  0.381 & -0.192 & -2.624 & -1.055 & 1.2965 &  1.032 & Up    \\\\\n",
       "\t 2001   &  1.032 &  0.959 &  0.381 & -0.192 & -2.624 & 1.4112 & -0.623 & Down  \\\\\n",
       "\t 2001   & -0.623 &  1.032 &  0.959 &  0.381 & -0.192 & 1.2760 &  0.614 & Up    \\\\\n",
       "\t 2001   &  0.614 & -0.623 &  1.032 &  0.959 &  0.381 & 1.2057 &  0.213 & Up    \\\\\n",
       "\t 2001   &  0.213 &  0.614 & -0.623 &  1.032 &  0.959 & 1.3491 &  1.392 & Up    \\\\\n",
       "\\end{tabular}\n"
      ],
      "text/markdown": [
       "\n",
       "Year | Lag1 | Lag2 | Lag3 | Lag4 | Lag5 | Volume | Today | Direction | \n",
       "|---|---|---|---|---|---|\n",
       "| 2001   |  0.381 | -0.192 | -2.624 | -1.055 |  5.010 | 1.1913 |  0.959 | Up     | \n",
       "| 2001   |  0.959 |  0.381 | -0.192 | -2.624 | -1.055 | 1.2965 |  1.032 | Up     | \n",
       "| 2001   |  1.032 |  0.959 |  0.381 | -0.192 | -2.624 | 1.4112 | -0.623 | Down   | \n",
       "| 2001   | -0.623 |  1.032 |  0.959 |  0.381 | -0.192 | 1.2760 |  0.614 | Up     | \n",
       "| 2001   |  0.614 | -0.623 |  1.032 |  0.959 |  0.381 | 1.2057 |  0.213 | Up     | \n",
       "| 2001   |  0.213 |  0.614 | -0.623 |  1.032 |  0.959 | 1.3491 |  1.392 | Up     | \n",
       "\n",
       "\n"
      ],
      "text/plain": [
       "  Year Lag1   Lag2   Lag3   Lag4   Lag5   Volume Today  Direction\n",
       "1 2001  0.381 -0.192 -2.624 -1.055  5.010 1.1913  0.959 Up       \n",
       "2 2001  0.959  0.381 -0.192 -2.624 -1.055 1.2965  1.032 Up       \n",
       "3 2001  1.032  0.959  0.381 -0.192 -2.624 1.4112 -0.623 Down     \n",
       "4 2001 -0.623  1.032  0.959  0.381 -0.192 1.2760  0.614 Up       \n",
       "5 2001  0.614 -0.623  1.032  0.959  0.381 1.2057  0.213 Up       \n",
       "6 2001  0.213  0.614 -0.623  1.032  0.959 1.3491  1.392 Up       "
      ]
     },
     "metadata": {},
     "output_type": "display_data"
    }
   ],
   "source": [
    "head(Smarket)"
   ]
  },
  {
   "cell_type": "code",
   "execution_count": 3,
   "metadata": {},
   "outputs": [],
   "source": [
    "#Datensatz in Dataframe speichern\n",
    "stockm <-Smarket"
   ]
  },
  {
   "cell_type": "code",
   "execution_count": 4,
   "metadata": {},
   "outputs": [
    {
     "name": "stdout",
     "output_type": "stream",
     "text": [
      "'data.frame':\t1250 obs. of  9 variables:\n",
      " $ Year     : num  2001 2001 2001 2001 2001 ...\n",
      " $ Lag1     : num  0.381 0.959 1.032 -0.623 0.614 ...\n",
      " $ Lag2     : num  -0.192 0.381 0.959 1.032 -0.623 ...\n",
      " $ Lag3     : num  -2.624 -0.192 0.381 0.959 1.032 ...\n",
      " $ Lag4     : num  -1.055 -2.624 -0.192 0.381 0.959 ...\n",
      " $ Lag5     : num  5.01 -1.055 -2.624 -0.192 0.381 ...\n",
      " $ Volume   : num  1.19 1.3 1.41 1.28 1.21 ...\n",
      " $ Today    : num  0.959 1.032 -0.623 0.614 0.213 ...\n",
      " $ Direction: Factor w/ 2 levels \"Down\",\"Up\": 2 2 1 2 2 2 1 2 2 2 ...\n"
     ]
    }
   ],
   "source": [
    "str(stockm)"
   ]
  },
  {
   "cell_type": "markdown",
   "metadata": {},
   "source": [
    "Der Datensatz ist nach Jahren sortiert, wir werden die Reihenfolge nun randomisieren."
   ]
  },
  {
   "cell_type": "code",
   "execution_count": 5,
   "metadata": {},
   "outputs": [],
   "source": [
    "set.seed(1) # stellt die gleichen Ergebnisse sicher\n",
    "rnum<- sample(rep(1:1250)) #generiert zufällige Zahlen zwischen 1 und 150\n",
    "stockm<- stockm[rnum,]"
   ]
  },
  {
   "cell_type": "markdown",
   "metadata": {},
   "source": [
    "Nun kann übrepüft werden, ob die Randomisation geklappt hat."
   ]
  },
  {
   "cell_type": "code",
   "execution_count": 6,
   "metadata": {},
   "outputs": [
    {
     "data": {
      "text/html": [
       "<table>\n",
       "<thead><tr><th></th><th scope=col>Year</th><th scope=col>Lag1</th><th scope=col>Lag2</th><th scope=col>Lag3</th><th scope=col>Lag4</th><th scope=col>Lag5</th><th scope=col>Volume</th><th scope=col>Today</th><th scope=col>Direction</th></tr></thead>\n",
       "<tbody>\n",
       "\t<tr><th scope=row>332</th><td>2002   </td><td>-1.455 </td><td> 3.750 </td><td>-0.302 </td><td>-1.934 </td><td>-1.026 </td><td>1.15300</td><td>-1.679 </td><td>Down   </td></tr>\n",
       "\t<tr><th scope=row>465</th><td>2002   </td><td> 0.615 </td><td> 2.463 </td><td>-0.048 </td><td> 0.772 </td><td>-2.073 </td><td>1.40010</td><td>-1.041 </td><td>Down   </td></tr>\n",
       "\t<tr><th scope=row>715</th><td>2003   </td><td>-0.011 </td><td> 1.143 </td><td>-0.052 </td><td>-0.579 </td><td>-0.457 </td><td>1.38300</td><td>-0.762 </td><td>Down   </td></tr>\n",
       "\t<tr><th scope=row>1133</th><td>2005   </td><td> 0.262 </td><td> 0.088 </td><td> 0.227 </td><td> 0.625 </td><td> 1.168 </td><td>2.04871</td><td> 0.116 </td><td>Up     </td></tr>\n",
       "\t<tr><th scope=row>252</th><td>2002   </td><td>-0.628 </td><td>-0.947 </td><td> 0.122 </td><td>-0.480 </td><td>-0.359 </td><td>1.28640</td><td> 0.683 </td><td>Up     </td></tr>\n",
       "\t<tr><th scope=row>1119</th><td>2005   </td><td>-1.083 </td><td> 0.022 </td><td>-0.205 </td><td>-0.071 </td><td> 0.495 </td><td>2.02992</td><td>-0.763 </td><td>Down   </td></tr>\n",
       "</tbody>\n",
       "</table>\n"
      ],
      "text/latex": [
       "\\begin{tabular}{r|lllllllll}\n",
       "  & Year & Lag1 & Lag2 & Lag3 & Lag4 & Lag5 & Volume & Today & Direction\\\\\n",
       "\\hline\n",
       "\t332 & 2002    & -1.455  &  3.750  & -0.302  & -1.934  & -1.026  & 1.15300 & -1.679  & Down   \\\\\n",
       "\t465 & 2002    &  0.615  &  2.463  & -0.048  &  0.772  & -2.073  & 1.40010 & -1.041  & Down   \\\\\n",
       "\t715 & 2003    & -0.011  &  1.143  & -0.052  & -0.579  & -0.457  & 1.38300 & -0.762  & Down   \\\\\n",
       "\t1133 & 2005    &  0.262  &  0.088  &  0.227  &  0.625  &  1.168  & 2.04871 &  0.116  & Up     \\\\\n",
       "\t252 & 2002    & -0.628  & -0.947  &  0.122  & -0.480  & -0.359  & 1.28640 &  0.683  & Up     \\\\\n",
       "\t1119 & 2005    & -1.083  &  0.022  & -0.205  & -0.071  &  0.495  & 2.02992 & -0.763  & Down   \\\\\n",
       "\\end{tabular}\n"
      ],
      "text/markdown": [
       "\n",
       "| <!--/--> | Year | Lag1 | Lag2 | Lag3 | Lag4 | Lag5 | Volume | Today | Direction | \n",
       "|---|---|---|---|---|---|\n",
       "| 332 | 2002    | -1.455  |  3.750  | -0.302  | -1.934  | -1.026  | 1.15300 | -1.679  | Down    | \n",
       "| 465 | 2002    |  0.615  |  2.463  | -0.048  |  0.772  | -2.073  | 1.40010 | -1.041  | Down    | \n",
       "| 715 | 2003    | -0.011  |  1.143  | -0.052  | -0.579  | -0.457  | 1.38300 | -0.762  | Down    | \n",
       "| 1133 | 2005    |  0.262  |  0.088  |  0.227  |  0.625  |  1.168  | 2.04871 |  0.116  | Up      | \n",
       "| 252 | 2002    | -0.628  | -0.947  |  0.122  | -0.480  | -0.359  | 1.28640 |  0.683  | Up      | \n",
       "| 1119 | 2005    | -1.083  |  0.022  | -0.205  | -0.071  |  0.495  | 2.02992 | -0.763  | Down    | \n",
       "\n",
       "\n"
      ],
      "text/plain": [
       "     Year Lag1   Lag2   Lag3   Lag4   Lag5   Volume  Today  Direction\n",
       "332  2002 -1.455  3.750 -0.302 -1.934 -1.026 1.15300 -1.679 Down     \n",
       "465  2002  0.615  2.463 -0.048  0.772 -2.073 1.40010 -1.041 Down     \n",
       "715  2003 -0.011  1.143 -0.052 -0.579 -0.457 1.38300 -0.762 Down     \n",
       "1133 2005  0.262  0.088  0.227  0.625  1.168 2.04871  0.116 Up       \n",
       "252  2002 -0.628 -0.947  0.122 -0.480 -0.359 1.28640  0.683 Up       \n",
       "1119 2005 -1.083  0.022 -0.205 -0.071  0.495 2.02992 -0.763 Down     "
      ]
     },
     "metadata": {},
     "output_type": "display_data"
    }
   ],
   "source": [
    "head(stockm)"
   ]
  },
  {
   "cell_type": "markdown",
   "metadata": {},
   "source": [
    "Das sieht gut aus.   \n",
    "Nun kann man sehen wir uns die Verteilung der Zielvariablen an."
   ]
  },
  {
   "cell_type": "code",
   "execution_count": 45,
   "metadata": {},
   "outputs": [
    {
     "data": {
      "text/plain": [
       "\n",
       "Down   Up \n",
       " 602  648 "
      ]
     },
     "metadata": {},
     "output_type": "display_data"
    },
    {
     "data": {
      "text/plain": [
       "\n",
       "Down   Up \n",
       "48.2 51.8 "
      ]
     },
     "metadata": {},
     "output_type": "display_data"
    }
   ],
   "source": [
    "table(stockm$Direction)\n",
    "round(prop.table(table(stockm$Direction))*100, digits =1)"
   ]
  },
  {
   "cell_type": "markdown",
   "metadata": {},
   "source": [
    "Es gibt in jeder Klasse fast gleich viele Repräsentanten. Die Zielvariable muss noch als Faktor konvertiert werden."
   ]
  },
  {
   "cell_type": "code",
   "execution_count": 8,
   "metadata": {},
   "outputs": [],
   "source": [
    "stockm$Direction <- as.factor(stockm$Direction)"
   ]
  },
  {
   "cell_type": "markdown",
   "metadata": {},
   "source": [
    "Über die bereits implementierte z - Transformation können die Daten einheitlich skaliert werden. Wichtig dabei ist, dass die Zielvariable, die sich in der 9. Spalte befindet, nicht konvertiert wird."
   ]
  },
  {
   "cell_type": "code",
   "execution_count": 9,
   "metadata": {},
   "outputs": [],
   "source": [
    "stockm_new<- as.data.frame(scale(stockm[-9]))"
   ]
  },
  {
   "cell_type": "code",
   "execution_count": 10,
   "metadata": {},
   "outputs": [
    {
     "data": {
      "text/html": [
       "<table>\n",
       "<thead><tr><th></th><th scope=col>Year</th><th scope=col>Lag1</th><th scope=col>Lag2</th><th scope=col>Lag3</th><th scope=col>Lag4</th><th scope=col>Lag5</th><th scope=col>Volume</th><th scope=col>Today</th></tr></thead>\n",
       "<tbody>\n",
       "\t<tr><th scope=row>332</th><td>-0.72106947</td><td>-1.28384747</td><td> 3.29679301</td><td>-0.26672101</td><td>-1.6997547 </td><td>-0.8989669 </td><td>-0.9027296 </td><td>-1.48032029</td></tr>\n",
       "\t<tr><th scope=row>465</th><td>-0.72106947</td><td> 0.53785640</td><td> 2.16414990</td><td>-0.04366020</td><td> 0.6764856 </td><td>-1.8113452 </td><td>-0.2170208 </td><td>-0.91886569</td></tr>\n",
       "\t<tr><th scope=row>715</th><td>-0.01135542</td><td>-0.01305502</td><td> 1.00246466</td><td>-0.04717297</td><td>-0.5098783 </td><td>-0.4031280 </td><td>-0.2644738 </td><td>-0.67333930</td></tr>\n",
       "\t<tr><th scope=row>1133</th><td> 1.40807266</td><td> 0.22719868</td><td> 0.07399653</td><td> 0.19784264</td><td> 0.5473993 </td><td> 1.0129321 </td><td> 1.5828882 </td><td> 0.09932079</td></tr>\n",
       "\t<tr><th scope=row>252</th><td>-0.72106947</td><td>-0.55604598</td><td>-0.83687030</td><td> 0.10563246</td><td>-0.4229427 </td><td>-0.3177287 </td><td>-0.5325412 </td><td> 0.59829377</td></tr>\n",
       "\t<tr><th scope=row>1119</th><td> 1.40807266</td><td>-0.95646881</td><td> 0.01591227</td><td>-0.18153637</td><td>-0.0637844 </td><td> 0.4264653 </td><td> 1.5307455 </td><td>-0.67421933</td></tr>\n",
       "</tbody>\n",
       "</table>\n"
      ],
      "text/latex": [
       "\\begin{tabular}{r|llllllll}\n",
       "  & Year & Lag1 & Lag2 & Lag3 & Lag4 & Lag5 & Volume & Today\\\\\n",
       "\\hline\n",
       "\t332 & -0.72106947 & -1.28384747 &  3.29679301 & -0.26672101 & -1.6997547  & -0.8989669  & -0.9027296  & -1.48032029\\\\\n",
       "\t465 & -0.72106947 &  0.53785640 &  2.16414990 & -0.04366020 &  0.6764856  & -1.8113452  & -0.2170208  & -0.91886569\\\\\n",
       "\t715 & -0.01135542 & -0.01305502 &  1.00246466 & -0.04717297 & -0.5098783  & -0.4031280  & -0.2644738  & -0.67333930\\\\\n",
       "\t1133 &  1.40807266 &  0.22719868 &  0.07399653 &  0.19784264 &  0.5473993  &  1.0129321  &  1.5828882  &  0.09932079\\\\\n",
       "\t252 & -0.72106947 & -0.55604598 & -0.83687030 &  0.10563246 & -0.4229427  & -0.3177287  & -0.5325412  &  0.59829377\\\\\n",
       "\t1119 &  1.40807266 & -0.95646881 &  0.01591227 & -0.18153637 & -0.0637844  &  0.4264653  &  1.5307455  & -0.67421933\\\\\n",
       "\\end{tabular}\n"
      ],
      "text/markdown": [
       "\n",
       "| <!--/--> | Year | Lag1 | Lag2 | Lag3 | Lag4 | Lag5 | Volume | Today | \n",
       "|---|---|---|---|---|---|\n",
       "| 332 | -0.72106947 | -1.28384747 |  3.29679301 | -0.26672101 | -1.6997547  | -0.8989669  | -0.9027296  | -1.48032029 | \n",
       "| 465 | -0.72106947 |  0.53785640 |  2.16414990 | -0.04366020 |  0.6764856  | -1.8113452  | -0.2170208  | -0.91886569 | \n",
       "| 715 | -0.01135542 | -0.01305502 |  1.00246466 | -0.04717297 | -0.5098783  | -0.4031280  | -0.2644738  | -0.67333930 | \n",
       "| 1133 |  1.40807266 |  0.22719868 |  0.07399653 |  0.19784264 |  0.5473993  |  1.0129321  |  1.5828882  |  0.09932079 | \n",
       "| 252 | -0.72106947 | -0.55604598 | -0.83687030 |  0.10563246 | -0.4229427  | -0.3177287  | -0.5325412  |  0.59829377 | \n",
       "| 1119 |  1.40807266 | -0.95646881 |  0.01591227 | -0.18153637 | -0.0637844  |  0.4264653  |  1.5307455  | -0.67421933 | \n",
       "\n",
       "\n"
      ],
      "text/plain": [
       "     Year        Lag1        Lag2        Lag3        Lag4       Lag5      \n",
       "332  -0.72106947 -1.28384747  3.29679301 -0.26672101 -1.6997547 -0.8989669\n",
       "465  -0.72106947  0.53785640  2.16414990 -0.04366020  0.6764856 -1.8113452\n",
       "715  -0.01135542 -0.01305502  1.00246466 -0.04717297 -0.5098783 -0.4031280\n",
       "1133  1.40807266  0.22719868  0.07399653  0.19784264  0.5473993  1.0129321\n",
       "252  -0.72106947 -0.55604598 -0.83687030  0.10563246 -0.4229427 -0.3177287\n",
       "1119  1.40807266 -0.95646881  0.01591227 -0.18153637 -0.0637844  0.4264653\n",
       "     Volume     Today      \n",
       "332  -0.9027296 -1.48032029\n",
       "465  -0.2170208 -0.91886569\n",
       "715  -0.2644738 -0.67333930\n",
       "1133  1.5828882  0.09932079\n",
       "252  -0.5325412  0.59829377\n",
       "1119  1.5307455 -0.67421933"
      ]
     },
     "metadata": {},
     "output_type": "display_data"
    }
   ],
   "source": [
    "head(stockm_new)"
   ]
  },
  {
   "cell_type": "markdown",
   "metadata": {},
   "source": [
    "Die Transformation scheint geklappt zu haben.  \n",
    "Nun werden die Daten in Test- und Trainingsdatensätze aufgeteilt."
   ]
  },
  {
   "cell_type": "code",
   "execution_count": 36,
   "metadata": {},
   "outputs": [],
   "source": [
    "stockm_train = stockm_new[1:1000, 2:8 ]\n",
    "stockm_test = stockm_new[1001:1250, 2:8]"
   ]
  },
  {
   "cell_type": "markdown",
   "metadata": {},
   "source": [
    "Die Klassen müssen in Vektoren abgespeichert werden."
   ]
  },
  {
   "cell_type": "code",
   "execution_count": 37,
   "metadata": {},
   "outputs": [],
   "source": [
    "stockm_label_train = stockm[1:1000, 9]\n",
    "stockm_label_test = stockm[1001:1250, 9]"
   ]
  },
  {
   "cell_type": "markdown",
   "metadata": {},
   "source": [
    "Nun wird ein Vektor mit den vorhergesagten Klassen für die Testdaten erstellt, indem die kNN - Funktion angewandt wird."
   ]
  },
  {
   "cell_type": "code",
   "execution_count": 42,
   "metadata": {},
   "outputs": [],
   "source": [
    "#k=35 Quadratwurzel von 1250\n",
    "stockm_test_pred <- knn(train=stockm_train, test = stockm_test, cl = stockm_label_train, k=35)"
   ]
  },
  {
   "cell_type": "markdown",
   "metadata": {},
   "source": [
    "Schließlich überpürfen wir, wie gut die Übereinstimmung mit den vorhergesagten Daten ist. Dazu brauchen wir die library `gmodels`"
   ]
  },
  {
   "cell_type": "code",
   "execution_count": 43,
   "metadata": {},
   "outputs": [
    {
     "name": "stdout",
     "output_type": "stream",
     "text": [
      "\n",
      " \n",
      "   Cell Contents\n",
      "|-------------------------|\n",
      "|                       N |\n",
      "| Chi-square contribution |\n",
      "|           N / Row Total |\n",
      "|           N / Col Total |\n",
      "|         N / Table Total |\n",
      "|-------------------------|\n",
      "\n",
      " \n",
      "Total Observations in Table:  250 \n",
      "\n",
      " \n",
      "                  | stockm_test_pred \n",
      "stockm_label_test |      Down |        Up | Row Total | \n",
      "------------------|-----------|-----------|-----------|\n",
      "             Down |        97 |        21 |       118 | \n",
      "                  |    51.042 |    34.599 |           | \n",
      "                  |     0.822 |     0.178 |     0.472 | \n",
      "                  |     0.960 |     0.141 |           | \n",
      "                  |     0.388 |     0.084 |           | \n",
      "------------------|-----------|-----------|-----------|\n",
      "               Up |         4 |       128 |       132 | \n",
      "                  |    45.628 |    30.929 |           | \n",
      "                  |     0.030 |     0.970 |     0.528 | \n",
      "                  |     0.040 |     0.859 |           | \n",
      "                  |     0.016 |     0.512 |           | \n",
      "------------------|-----------|-----------|-----------|\n",
      "     Column Total |       101 |       149 |       250 | \n",
      "                  |     0.404 |     0.596 |           | \n",
      "------------------|-----------|-----------|-----------|\n",
      "\n",
      " \n"
     ]
    }
   ],
   "source": [
    "library(gmodels)\n",
    "CrossTable(x= stockm_label_test, y=stockm_test_pred, prob.chisq = FLASE) \n",
    "#mit prob.chisq = FALSE werden die CHI^2 - Werte nicht angezeigt"
   ]
  },
  {
   "cell_type": "markdown",
   "metadata": {},
   "source": [
    "Es wurden knapp 39% korrekt vorhergesagt bei den fallenden Kursen und gut 51% bei den steigenden Kursen. Also liegt diese Modell in unserem Fall bei ca. 90% richtig. 10% wurden falsch klassifiziert.  "
   ]
  },
  {
   "cell_type": "markdown",
   "metadata": {},
   "source": [
    "#### Die Performance verbessern"
   ]
  },
  {
   "cell_type": "markdown",
   "metadata": {},
   "source": [
    "Es kann getestet werden, ob mit der Normalisierung der Werte die Vorhersage besser wird. Außerdem kann man unterschiedliche Werte für k testen."
   ]
  },
  {
   "cell_type": "code",
   "execution_count": 46,
   "metadata": {},
   "outputs": [],
   "source": [
    "normalize <- function(x){\n",
    "    return ((x-min(x)) / (max(x) -min(x)))\n",
    "}"
   ]
  },
  {
   "cell_type": "code",
   "execution_count": 47,
   "metadata": {},
   "outputs": [],
   "source": [
    "stockm_new <- as.data.frame(lapply(stockm[-9], normalize))"
   ]
  },
  {
   "cell_type": "code",
   "execution_count": 48,
   "metadata": {},
   "outputs": [
    {
     "data": {
      "text/html": [
       "<table>\n",
       "<thead><tr><th scope=col>Year</th><th scope=col>Lag1</th><th scope=col>Lag2</th><th scope=col>Lag3</th><th scope=col>Lag4</th><th scope=col>Lag5</th><th scope=col>Volume</th><th scope=col>Today</th></tr></thead>\n",
       "<tbody>\n",
       "\t<tr><td>0.25     </td><td>0.3253871</td><td>0.8138902</td><td>0.4335992</td><td>0.2804317</td><td>0.3656499</td><td>0.2849843</td><td>0.3043641</td></tr>\n",
       "\t<tr><td>0.25     </td><td>0.5196621</td><td>0.6931018</td><td>0.4574378</td><td>0.5343970</td><td>0.2673862</td><td>0.3733479</td><td>0.3642421</td></tr>\n",
       "\t<tr><td>0.50     </td><td>0.4609104</td><td>0.5692163</td><td>0.4570624</td><td>0.4076021</td><td>0.4190521</td><td>0.3672329</td><td>0.3904270</td></tr>\n",
       "\t<tr><td>1.00     </td><td>0.4865321</td><td>0.4702018</td><td>0.4832473</td><td>0.5206007</td><td>0.5715626</td><td>0.6052925</td><td>0.4728297</td></tr>\n",
       "\t<tr><td>0.25     </td><td>0.4030033</td><td>0.3730643</td><td>0.4733928</td><td>0.4168935</td><td>0.4282496</td><td>0.3326885</td><td>0.5260441</td></tr>\n",
       "\t<tr><td>1.00     </td><td>0.3603003</td><td>0.4640075</td><td>0.4427030</td><td>0.4552792</td><td>0.5083998</td><td>0.5985732</td><td>0.3903332</td></tr>\n",
       "</tbody>\n",
       "</table>\n"
      ],
      "text/latex": [
       "\\begin{tabular}{r|llllllll}\n",
       " Year & Lag1 & Lag2 & Lag3 & Lag4 & Lag5 & Volume & Today\\\\\n",
       "\\hline\n",
       "\t 0.25      & 0.3253871 & 0.8138902 & 0.4335992 & 0.2804317 & 0.3656499 & 0.2849843 & 0.3043641\\\\\n",
       "\t 0.25      & 0.5196621 & 0.6931018 & 0.4574378 & 0.5343970 & 0.2673862 & 0.3733479 & 0.3642421\\\\\n",
       "\t 0.50      & 0.4609104 & 0.5692163 & 0.4570624 & 0.4076021 & 0.4190521 & 0.3672329 & 0.3904270\\\\\n",
       "\t 1.00      & 0.4865321 & 0.4702018 & 0.4832473 & 0.5206007 & 0.5715626 & 0.6052925 & 0.4728297\\\\\n",
       "\t 0.25      & 0.4030033 & 0.3730643 & 0.4733928 & 0.4168935 & 0.4282496 & 0.3326885 & 0.5260441\\\\\n",
       "\t 1.00      & 0.3603003 & 0.4640075 & 0.4427030 & 0.4552792 & 0.5083998 & 0.5985732 & 0.3903332\\\\\n",
       "\\end{tabular}\n"
      ],
      "text/markdown": [
       "\n",
       "Year | Lag1 | Lag2 | Lag3 | Lag4 | Lag5 | Volume | Today | \n",
       "|---|---|---|---|---|---|\n",
       "| 0.25      | 0.3253871 | 0.8138902 | 0.4335992 | 0.2804317 | 0.3656499 | 0.2849843 | 0.3043641 | \n",
       "| 0.25      | 0.5196621 | 0.6931018 | 0.4574378 | 0.5343970 | 0.2673862 | 0.3733479 | 0.3642421 | \n",
       "| 0.50      | 0.4609104 | 0.5692163 | 0.4570624 | 0.4076021 | 0.4190521 | 0.3672329 | 0.3904270 | \n",
       "| 1.00      | 0.4865321 | 0.4702018 | 0.4832473 | 0.5206007 | 0.5715626 | 0.6052925 | 0.4728297 | \n",
       "| 0.25      | 0.4030033 | 0.3730643 | 0.4733928 | 0.4168935 | 0.4282496 | 0.3326885 | 0.5260441 | \n",
       "| 1.00      | 0.3603003 | 0.4640075 | 0.4427030 | 0.4552792 | 0.5083998 | 0.5985732 | 0.3903332 | \n",
       "\n",
       "\n"
      ],
      "text/plain": [
       "  Year Lag1      Lag2      Lag3      Lag4      Lag5      Volume    Today    \n",
       "1 0.25 0.3253871 0.8138902 0.4335992 0.2804317 0.3656499 0.2849843 0.3043641\n",
       "2 0.25 0.5196621 0.6931018 0.4574378 0.5343970 0.2673862 0.3733479 0.3642421\n",
       "3 0.50 0.4609104 0.5692163 0.4570624 0.4076021 0.4190521 0.3672329 0.3904270\n",
       "4 1.00 0.4865321 0.4702018 0.4832473 0.5206007 0.5715626 0.6052925 0.4728297\n",
       "5 0.25 0.4030033 0.3730643 0.4733928 0.4168935 0.4282496 0.3326885 0.5260441\n",
       "6 1.00 0.3603003 0.4640075 0.4427030 0.4552792 0.5083998 0.5985732 0.3903332"
      ]
     },
     "metadata": {},
     "output_type": "display_data"
    }
   ],
   "source": [
    "head(stockm_new)"
   ]
  },
  {
   "cell_type": "markdown",
   "metadata": {},
   "source": [
    "Schließlich teilen wir wieder in Test- und Trainingsdaten auf und speichern die Klassen in Vektoren"
   ]
  },
  {
   "cell_type": "code",
   "execution_count": 49,
   "metadata": {},
   "outputs": [],
   "source": [
    "stockm_train = stockm_new[1:1000, 2:8 ]\n",
    "stockm_test = stockm_new[1001:1250, 2:8]"
   ]
  },
  {
   "cell_type": "code",
   "execution_count": 50,
   "metadata": {},
   "outputs": [],
   "source": [
    "stockm_label_train = stockm[1:1000, 9]\n",
    "stockm_label_test = stockm[1001:1250, 9]"
   ]
  },
  {
   "cell_type": "markdown",
   "metadata": {},
   "source": [
    "Dann wird der kNN Algorithmus wieder angewandt."
   ]
  },
  {
   "cell_type": "code",
   "execution_count": 57,
   "metadata": {},
   "outputs": [],
   "source": [
    "stockm_test_pred <- knn(train=stockm_train, test = stockm_test, cl = stockm_label_train, k=35)"
   ]
  },
  {
   "cell_type": "markdown",
   "metadata": {},
   "source": [
    "Und wieder in einer Kreuztabelle die Ergebnisse verglichen."
   ]
  },
  {
   "cell_type": "code",
   "execution_count": 58,
   "metadata": {},
   "outputs": [
    {
     "name": "stdout",
     "output_type": "stream",
     "text": [
      "\n",
      " \n",
      "   Cell Contents\n",
      "|-------------------------|\n",
      "|                       N |\n",
      "| Chi-square contribution |\n",
      "|           N / Row Total |\n",
      "|           N / Col Total |\n",
      "|         N / Table Total |\n",
      "|-------------------------|\n",
      "\n",
      " \n",
      "Total Observations in Table:  250 \n",
      "\n",
      " \n",
      "                  | stockm_test_pred \n",
      "stockm_label_test |      Down |        Up | Row Total | \n",
      "------------------|-----------|-----------|-----------|\n",
      "             Down |       101 |        17 |       118 | \n",
      "                  |    53.391 |    38.663 |           | \n",
      "                  |     0.856 |     0.144 |     0.472 | \n",
      "                  |     0.962 |     0.117 |           | \n",
      "                  |     0.404 |     0.068 |           | \n",
      "------------------|-----------|-----------|-----------|\n",
      "               Up |         4 |       128 |       132 | \n",
      "                  |    47.729 |    34.562 |           | \n",
      "                  |     0.030 |     0.970 |     0.528 | \n",
      "                  |     0.038 |     0.883 |           | \n",
      "                  |     0.016 |     0.512 |           | \n",
      "------------------|-----------|-----------|-----------|\n",
      "     Column Total |       105 |       145 |       250 | \n",
      "                  |     0.420 |     0.580 |           | \n",
      "------------------|-----------|-----------|-----------|\n",
      "\n",
      " \n"
     ]
    }
   ],
   "source": [
    "CrossTable(x= stockm_label_test, y=stockm_test_pred, prob.chisq = FLASE)"
   ]
  },
  {
   "cell_type": "markdown",
   "metadata": {},
   "source": [
    "Die Performance konnte um ca 1% verbessert werden, denn nun sind die richtig vorhergesagten fallende Kurse bei 40.4% (vorher bei 38.8 %)."
   ]
  },
  {
   "cell_type": "markdown",
   "metadata": {},
   "source": [
    "Unterschiedliche k können getestet werden, indem das k bei der `knn()` - Funktion einfach verändert wird und der Code nochmals ausgeführt wird."
   ]
  },
  {
   "cell_type": "code",
   "execution_count": 60,
   "metadata": {},
   "outputs": [
    {
     "name": "stdout",
     "output_type": "stream",
     "text": [
      "\n",
      " \n",
      "   Cell Contents\n",
      "|-------------------------|\n",
      "|                       N |\n",
      "| Chi-square contribution |\n",
      "|           N / Row Total |\n",
      "|           N / Col Total |\n",
      "|         N / Table Total |\n",
      "|-------------------------|\n",
      "\n",
      " \n",
      "Total Observations in Table:  250 \n",
      "\n",
      " \n",
      "                  | stockm_test_pred \n",
      "stockm_label_test |      Down |        Up | Row Total | \n",
      "------------------|-----------|-----------|-----------|\n",
      "             Down |        98 |        20 |       118 | \n",
      "                  |    33.134 |    29.148 |           | \n",
      "                  |     0.831 |     0.169 |     0.472 | \n",
      "                  |     0.838 |     0.150 |           | \n",
      "                  |     0.392 |     0.080 |           | \n",
      "------------------|-----------|-----------|-----------|\n",
      "               Up |        19 |       113 |       132 | \n",
      "                  |    29.620 |    26.056 |           | \n",
      "                  |     0.144 |     0.856 |     0.528 | \n",
      "                  |     0.162 |     0.850 |           | \n",
      "                  |     0.076 |     0.452 |           | \n",
      "------------------|-----------|-----------|-----------|\n",
      "     Column Total |       117 |       133 |       250 | \n",
      "                  |     0.468 |     0.532 |           | \n",
      "------------------|-----------|-----------|-----------|\n",
      "\n",
      " \n"
     ]
    }
   ],
   "source": [
    "stockm_test_pred <- knn(train=stockm_train, test = stockm_test, cl = stockm_label_train, k=1)\n",
    "CrossTable(x= stockm_label_test, y=stockm_test_pred, prob.chisq = FLASE)"
   ]
  },
  {
   "cell_type": "markdown",
   "metadata": {},
   "source": [
    "mit k=1 wird die Performance nicht besser."
   ]
  },
  {
   "cell_type": "code",
   "execution_count": null,
   "metadata": {},
   "outputs": [],
   "source": []
  }
 ],
 "metadata": {
  "kernelspec": {
   "display_name": "R",
   "language": "R",
   "name": "ir"
  },
  "language_info": {
   "codemirror_mode": "r",
   "file_extension": ".r",
   "mimetype": "text/x-r-source",
   "name": "R",
   "pygments_lexer": "r",
   "version": "3.4.3"
  }
 },
 "nbformat": 4,
 "nbformat_minor": 2
}
